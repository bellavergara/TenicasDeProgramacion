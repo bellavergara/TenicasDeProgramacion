{
 "cells": [
  {
   "cell_type": "markdown",
   "metadata": {},
   "source": [
    "Pregunta 1 ¿Qué es el código máquina?"
   ]
  },
  {
   "cell_type": "markdown",
   "metadata": {},
   "source": [
    "Un lenguaje de programación de bajo nivel que consiste en dígitos/bits binarios que la\n",
    "computadora lee y entiende"
   ]
  },
  {
   "cell_type": "markdown",
   "metadata": {},
   "source": [
    "Pregunta 2 ¿Cuáles son los cuatro elementos fundamentales que componen un lenguaje?"
   ]
  },
  {
   "cell_type": "markdown",
   "metadata": {},
   "source": [
    "c) Un alfabeto, un léxico, una sintaxis y una semántica"
   ]
  },
  {
   "cell_type": "markdown",
   "metadata": {},
   "source": [
    "Pregunta 3 ¿Cómo se llama a un archivo que contiene un programa escrito en un lenguaje de\n",
    "programación de alto nivel?"
   ]
  },
  {
   "cell_type": "markdown",
   "metadata": {},
   "source": []
  },
  {
   "cell_type": "markdown",
   "metadata": {},
   "source": [
    "b) Un archivo fuente"
   ]
  },
  {
   "cell_type": "code",
   "execution_count": null,
   "metadata": {
    "vscode": {
     "languageId": "plaintext"
    }
   },
   "outputs": [],
   "source": [
    "Pregunta 4 ¿Qué es cierto sobre la compilación?"
   ]
  },
  {
   "cell_type": "markdown",
   "metadata": {},
   "source": [
    "b) El código se convierte directamente en código máquina ejecutable por el procesador"
   ]
  },
  {
   "cell_type": "markdown",
   "metadata": {},
   "source": [
    "Pregunta 5 ¿Cuál es la mejor definición de un script?"
   ]
  },
  {
   "cell_type": "markdown",
   "metadata": {},
   "source": [
    "b) Es un archivo de texto que contiene instrucciones que componen un programa de Python"
   ]
  },
  {
   "cell_type": "markdown",
   "metadata": {},
   "source": [
    "Pregunta 6 Selecciona las afirmaciones que sean verdaderas. "
   ]
  },
  {
   "cell_type": "markdown",
   "metadata": {},
   "source": [
    "b) Python es una buena opción para crear y ejecutar pruebas para aplicaciones\n",
    "d) Python es gratuito, de código abierto y multiplataforma"
   ]
  },
  {
   "cell_type": "markdown",
   "metadata": {},
   "source": [
    "Pregunta 7 ¿Cómo se llama un intérprete de línea de comandos que te permite interactuar con tu\n",
    "sistema operativo y ejecutar comandos y scripts de Python?"
   ]
  },
  {
   "cell_type": "markdown",
   "metadata": {},
   "source": [
    "b) Una consola"
   ]
  },
  {
   "cell_type": "markdown",
   "metadata": {},
   "source": [
    "Pregunta 8 ¿Cuál es el comportamiento esperado del siguiente programa?\n",
    "print(\"¡Hola!\""
   ]
  },
  {
   "cell_type": "markdown",
   "metadata": {},
   "source": [
    "b) El programa mostrará ¡Hola! en la pantalla"
   ]
  }
 ],
 "metadata": {
  "language_info": {
   "name": "python"
  }
 },
 "nbformat": 4,
 "nbformat_minor": 2
}
